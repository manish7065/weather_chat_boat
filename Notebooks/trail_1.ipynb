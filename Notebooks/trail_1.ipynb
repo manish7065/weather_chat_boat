{
 "cells": [
  {
   "attachments": {},
   "cell_type": "markdown",
   "metadata": {},
   "source": [
    "# Old ways of using OpenAI API"
   ]
  },
  {
   "attachments": {},
   "cell_type": "markdown",
   "metadata": {},
   "source": [
    "## via openai python ChatCompletion class"
   ]
  },
  {
   "cell_type": "code",
   "execution_count": 47,
   "metadata": {},
   "outputs": [
    {
     "name": "stdout",
     "output_type": "stream",
     "text": [
      "{\n",
      "  \"role\": \"assistant\",\n",
      "  \"content\": \"Hi there! How can I assist you today?\"\n",
      "}\n"
     ]
    }
   ],
   "source": [
    "import os\n",
    "import openai\n",
    "openai.api_key = os.getenv(\"OPENAI_API_KEY\")\n",
    "\n",
    "completion=openai.ChatCompletion.create(\n",
    "    model = \"gpt-3.5-turbo\",\n",
    "    messages = [\n",
    "        {\"role\":\"system\",\"content\":\"You are a helpful assistant.\"},\n",
    "        {\"role\":'user',\"content\":\"Hello\"}\n",
    "               \n",
    "               ]\n",
    ")\n",
    "\n",
    "print(completion.choices[0].message)"
   ]
  },
  {
   "attachments": {},
   "cell_type": "markdown",
   "metadata": {},
   "source": [
    "## Via CURL command\n",
    "\n",
    "```bash\n",
    "curl https://api.openai.com/v1/chat/completions \\\n",
    "  -H \"Content-Type: application/json\" \\\n",
    "  -H \"Authorization: Bearer $OPENAI_API_KEY\" \\\n",
    "  -d '{\n",
    "    \"model\": \"gpt-3.5-turbo\",\n",
    "    \"messages\": [\n",
    "      {\"role\": \"system\", \"content\": \"You are a helpful assistant.\"}, \n",
    "      {\"role\": \"user\", \"content\": \"Hello!\"}\n",
    "      ]\n",
    "  }'\n",
    "```"
   ]
  },
  {
   "attachments": {},
   "cell_type": "markdown",
   "metadata": {},
   "source": [
    "## Via request module\n",
    "\n",
    "```python\n",
    "OPENAI_API_KEY=openai.api_key = os.getenv(\"OPENAI_API_KEY\")\n",
    "\n",
    "\n",
    "import requests\n",
    "\n",
    "headers  ={\n",
    "\n",
    "    \"Contenet-Type\" : \"application/json\",\n",
    "    \"Authorization\" : \"Bearer \" + OPENAI_API_KEY\n",
    "}\n",
    "json_data = {\n",
    "    'model':'gpt-3.5-turbo',\n",
    "    'messages': [\n",
    "        {'role': 'system', 'content': 'You are ahelpful assistant.' },\n",
    "        {'role': 'user', 'content': 'Hello!' },\n",
    "    ]\n",
    "}\n",
    "response = requests.post(\n",
    "    \"https://api.openai.com/v1/chat/completions\",\n",
    "    headers=headers,\n",
    "    json=json_data\n",
    " )\n",
    "\n",
    "```\n"
   ]
  },
  {
   "attachments": {},
   "cell_type": "markdown",
   "metadata": {},
   "source": [
    "# Weather Chatbot\n"
   ]
  },
  {
   "attachments": {},
   "cell_type": "markdown",
   "metadata": {},
   "source": [
    "## Checkout the following example - \n",
    "\n",
    "```bash\n",
    "curl https://api.openai.com/v1/chat/completions -u :$OPENAI_API_KEY -H 'Content-Type: application/json' -d '{\n",
    "  \"model\": \"gpt-3.5-turbo-0613\",\n",
    "  \"messages\": [\n",
    "    {\"role\": \"user\", \"content\": \"What is the weather like in Boston?\"}\n",
    "  ],\n",
    "  \"functions\": [\n",
    "    {\n",
    "      \"name\": \"get_current_weather\",\n",
    "      \"description\": \"Get the current weather in a given location\",\n",
    "      \"parameters\": {\n",
    "        \"type\": \"object\",\n",
    "        \"properties\": {\n",
    "          \"location\": {\n",
    "            \"type\": \"string\",\n",
    "            \"description\": \"The city and state, e.g. San Francisco, CA\"\n",
    "          },\n",
    "          \"unit\": {\n",
    "            \"type\": \"string\",\n",
    "            \"enum\": [\"celsius\", \"fahrenheit\"]\n",
    "          }\n",
    "        },\n",
    "        \"required\": [\"location\"]\n",
    "      }\n",
    "    }\n",
    "  ]\n",
    "}'\n",
    "```\n",
    "\n",
    "focus on the function keyword and the details under it can be found in a functions docstring. So from the above function description,\n",
    "you can assume the `get_current_weather` as follows - \n",
    "\n",
    "```python\n",
    "def get_current_weather(location, unit):\n",
    "    \"\"\"Get the current weather in a given location\n",
    "\n",
    "    Args:\n",
    "        location (str): The city and state, e.g. San Francisco, CA\n",
    "        unit (str): [\"celsius\", \"fahrenheit\"]\n",
    "    \"\"\"\n",
    "    pass\n",
    "```"
   ]
  },
  {
   "cell_type": "code",
   "execution_count": 1,
   "metadata": {},
   "outputs": [],
   "source": [
    "import requests\n",
    "import json\n",
    "import os\n",
    "from dotenv import load_dotenv\n",
    "load_dotenv()\n",
    "\n",
    "OPENAI_API_KEY = os.getenv('OPENAI_API_KEY')\n",
    "GPT_MODEL = 'gpt-3.5-turbo-0613' #new model for function calling abilities\n",
    "\n"
   ]
  },
  {
   "cell_type": "code",
   "execution_count": 2,
   "metadata": {},
   "outputs": [],
   "source": [
    "import requests\n",
    "\n",
    "def chat_completion_request(messages, functions=None, function_call=None, model=GPT_MODEL):\n",
    "    headers = {\n",
    "        'Content_Type': 'application/Json',\n",
    "        'Authorization': 'Bearer ' + OPENAI_API_KEY,\n",
    "    }\n",
    "    json_data ={\n",
    "        \"model\":model,\n",
    "        \"messages\":messages\n",
    "    }\n",
    "    if functions is not None:\n",
    "        json_data.update({\"functions\":functions})\n",
    "    if function_call is not None:\n",
    "        json_data.update({\"fuction_call\":function_call})\n",
    "\n",
    "    try:\n",
    "        response=requests.post(\n",
    "            \"https://api.openai.com/v1/chat/completions\",\n",
    "            headers = headers,\n",
    "            json = json_data\n",
    "        )\n",
    "        return response\n",
    "    except Exception as e:\n",
    "        print(f\"\\n>>>Unable to generate ChatCompletion response\")\n",
    "        print(f\"\\n>>> Exception: {e}\")\n",
    "        raise e\n",
    "\n",
    "\n"
   ]
  },
  {
   "cell_type": "code",
   "execution_count": 3,
   "metadata": {},
   "outputs": [
    {
     "name": "stdout",
     "output_type": "stream",
     "text": [
      "<Response [200]>\n"
     ]
    },
    {
     "data": {
      "text/plain": [
       "{'id': 'chatcmpl-7YvE6wmkw8cWkrWVbduapoFIZOHBL',\n",
       " 'object': 'chat.completion',\n",
       " 'created': 1688557486,\n",
       " 'model': 'gpt-3.5-turbo-0613',\n",
       " 'choices': [{'index': 0,\n",
       "   'message': {'role': 'assistant',\n",
       "    'content': 'Hello! How can I assist you today?'},\n",
       "   'finish_reason': 'stop'}],\n",
       " 'usage': {'prompt_tokens': 19, 'completion_tokens': 9, 'total_tokens': 28}}"
      ]
     },
     "execution_count": 3,
     "metadata": {},
     "output_type": "execute_result"
    }
   ],
   "source": [
    "messages = [\n",
    "    {'role':'system','content':\"you are a helpful assistant\"},\n",
    "    {'role':'user','content':'Hi, there'},\n",
    "]\n",
    "\n",
    "chat_response = chat_completion_request(messages=messages)\n",
    "\n",
    "print(chat_response)\n",
    "chat_response.json()\n"
   ]
  },
  {
   "cell_type": "code",
   "execution_count": 4,
   "metadata": {},
   "outputs": [
    {
     "data": {
      "text/plain": [
       "'Hello! How can I assist you today?'"
      ]
     },
     "execution_count": 4,
     "metadata": {},
     "output_type": "execute_result"
    }
   ],
   "source": [
    "assistant_message = chat_response.json()\n",
    "assistant_message['choices'][0]['message']['content']"
   ]
  },
  {
   "attachments": {},
   "cell_type": "markdown",
   "metadata": {},
   "source": [
    "## Prompting\n"
   ]
  },
  {
   "cell_type": "code",
   "execution_count": 5,
   "metadata": {},
   "outputs": [],
   "source": [
    "creator_name = \"mach-42\"\n",
    "\n",
    "system_instruction = f\"\"\"\n",
    "You are Weather bot created by {creator_name}, \\\n",
    "You first greet the customer, and you MUST introduce yourself as -\n",
    "\"Hi I am Weather bot created by {creator_name}! How may I assist you today?\" \\\n",
    "an automated service to tell Weather infomation \\\n",
    "based on the location provided by the user. \\\n",
    "then collects the location information\\\n",
    "Don't make assumptions about what \\\n",
    "values to plug into functions. \\\n",
    "Ask for clarification if a user request is ambiguous.\n",
    "You respond in a short, very conversational friendly style. \\\n",
    "\"\"\""
   ]
  },
  {
   "cell_type": "code",
   "execution_count": 6,
   "metadata": {},
   "outputs": [
    {
     "data": {
      "text/plain": [
       "[{'role': 'system',\n",
       "  'content': '\\nYou are Weather bot created by mach-42, You first greet the customer, and you MUST introduce yourself as -\\n\"Hi I am Weather bot created by mach-42! How may I assist you today?\" an automated service to tell Weather infomation based on the location provided by the user. then collects the location informationDon\\'t make assumptions about what values to plug into functions. Ask for clarification if a user request is ambiguous.\\nYou respond in a short, very conversational friendly style. '}]"
      ]
     },
     "execution_count": 6,
     "metadata": {},
     "output_type": "execute_result"
    }
   ],
   "source": [
    "messages = [{'role':'system',\"content\":system_instruction}]\n",
    "messages"
   ]
  },
  {
   "cell_type": "code",
   "execution_count": 7,
   "metadata": {},
   "outputs": [],
   "source": [
    "functions = [\n",
    "    {\n",
    "        \"name\":\"get_current_weather\", # Name of the function\n",
    "        \"description\":\"This weather function will fetch the current weather report\",\n",
    "        'parameters':{\n",
    "            \"type\":\"object\",\n",
    "            'properties':{ # 1st arguement\n",
    "                'location':{ #arguement name\n",
    "                    'type':'string', #arguement type\n",
    "                    'description':'The city and state, eg- new Delgi, Bengluru' # description of a function with example\n",
    "                }\n",
    "            },\n",
    "            'required':['location'] # required requirement i.e ist arg is required for this function\n",
    "        }\n",
    "\n",
    "\n",
    "    }\n",
    "]"
   ]
  },
  {
   "cell_type": "code",
   "execution_count": 8,
   "metadata": {},
   "outputs": [],
   "source": [
    "def get_current_weather(location):\n",
    "    RAPID_API_KEY = os.getenv('RAPID_API_KEY')\n",
    "    try:\n",
    "\n",
    "        url = \"https://weatherapi-com.p.rapidapi.com/current.json\"\n",
    "\n",
    "        querystring = {\"q\":location}\n",
    "        print(f\"\\n>>>> got the querystring as: {querystring}\")\n",
    "\n",
    "\n",
    "        headers = {\n",
    "            \"X-RapidAPI-Key\": RAPID_API_KEY,\n",
    "            \"X-RapidAPI-Host\": \"weatherapi-com.p.rapidapi.com\"\n",
    "        }\n",
    "\n",
    "        response = requests.get(url, headers=headers, params=querystring)\n",
    "        response_json = response.json()\n",
    "        print(f\"\\n>>>> got the RAPID API response as: \\n{response_json}\")\n",
    "        return response_json\n",
    "\n",
    "    except Exception as e:\n",
    "        print(\"Exception occured in fetching rapid api as : {e}\")\n",
    "        raise e\n",
    "    "
   ]
  },
  {
   "cell_type": "code",
   "execution_count": 9,
   "metadata": {},
   "outputs": [
    {
     "data": {
      "text/plain": [
       "{'id': 'chatcmpl-7YvEXuJ9SKEudXmjgiYSGvWsM3VlZ',\n",
       " 'object': 'chat.completion',\n",
       " 'created': 1688557513,\n",
       " 'model': 'gpt-3.5-turbo-0613',\n",
       " 'choices': [{'index': 0,\n",
       "   'message': {'role': 'assistant',\n",
       "    'content': 'Hi! How can I assist you today?'},\n",
       "   'finish_reason': 'stop'}],\n",
       " 'usage': {'prompt_tokens': 170, 'completion_tokens': 10, 'total_tokens': 180}}"
      ]
     },
     "execution_count": 9,
     "metadata": {},
     "output_type": "execute_result"
    }
   ],
   "source": [
    "user_message = \"Hi there!\"\n",
    "messages.append({\"role\": \"user\", \"content\": user_message})\n",
    "chat_response = chat_completion_request(messages = messages, functions = functions)\n",
    "chat_response.json()"
   ]
  },
  {
   "attachments": {},
   "cell_type": "markdown",
   "metadata": {},
   "source": [
    "### Messge Extraction"
   ]
  },
  {
   "cell_type": "code",
   "execution_count": 10,
   "metadata": {},
   "outputs": [
    {
     "name": "stdout",
     "output_type": "stream",
     "text": [
      "\n",
      "Assistant Message: \n",
      "{'role': 'assistant', 'content': 'Hi there! How may I assist you today? I am Weather bot created by mach-42!'}\n"
     ]
    }
   ],
   "source": [
    "messages=[] #Empty the messages list to avoid previous stored data\n",
    "messages.append({'role':'system',\"content\":system_instruction})\n",
    "user_message = \"Hi, there.\"\n",
    "messages.append({'role': 'user', 'content': user_message})\n",
    "    \n",
    "functions = [\n",
    "    {\n",
    "        \"name\":\"get_current_weather\", # Name of the function\n",
    "        \"description\":\"This weather function will fetch the current weather report\",\n",
    "        'parameters':{\n",
    "            \"type\":\"object\",\n",
    "            'properties':{ # 1st arguement\n",
    "                'location':{ #arguement name\n",
    "                    'type':'string', #arguement type\n",
    "                    'description':'The city and state, eg- new Delgi, Bengluru' # description of a function with example\n",
    "                }\n",
    "            },\n",
    "            'required':['location'] # required requirement i.e ist arg is required for this function\n",
    "        }\n",
    "    }\n",
    "]\n",
    "\n",
    "# Calling the chatgpt api response by passing the message and function\n",
    "chat_reasponse = chat_completion_request(messages,functions)\n",
    "\n",
    "# Extracting the message\n",
    "assistant_message = chat_reasponse.json()['choices'][0]['message']\n",
    "print(f\"\\nAssistant Message: \\n{assistant_message}\") \n"
   ]
  },
  {
   "cell_type": "code",
   "execution_count": 11,
   "metadata": {},
   "outputs": [
    {
     "data": {
      "text/plain": [
       "[{'role': 'system',\n",
       "  'content': '\\nYou are Weather bot created by mach-42, You first greet the customer, and you MUST introduce yourself as -\\n\"Hi I am Weather bot created by mach-42! How may I assist you today?\" an automated service to tell Weather infomation based on the location provided by the user. then collects the location informationDon\\'t make assumptions about what values to plug into functions. Ask for clarification if a user request is ambiguous.\\nYou respond in a short, very conversational friendly style. '},\n",
       " {'role': 'user', 'content': 'Hi, there.'},\n",
       " {'role': 'assistant',\n",
       "  'content': 'Hi there! How may I assist you today? I am Weather bot created by mach-42!'}]"
      ]
     },
     "execution_count": 11,
     "metadata": {},
     "output_type": "execute_result"
    }
   ],
   "source": [
    "messages.append(assistant_message)\n",
    "messages"
   ]
  },
  {
   "cell_type": "code",
   "execution_count": 12,
   "metadata": {},
   "outputs": [
    {
     "name": "stdout",
     "output_type": "stream",
     "text": [
      "\n",
      "Complete Chat Response: \n",
      "{'id': 'chatcmpl-7YvEx13e6Dtq2glpgOgcn2yMmXY9F', 'object': 'chat.completion', 'created': 1688557539, 'model': 'gpt-3.5-turbo-0613', 'choices': [{'index': 0, 'message': {'role': 'assistant', 'content': None, 'function_call': {'name': 'get_current_weather', 'arguments': '{\\n  \"location\": \"Bengaluru\"\\n}'}}, 'finish_reason': 'function_call'}], 'usage': {'prompt_tokens': 209, 'completion_tokens': 19, 'total_tokens': 228}}\n",
      "\n",
      "Assistant Message: \n",
      "{'role': 'assistant', 'content': None, 'function_call': {'name': 'get_current_weather', 'arguments': '{\\n  \"location\": \"Bengaluru\"\\n}'}}\n"
     ]
    }
   ],
   "source": [
    "user_message = \"I want to know the weather at Bengaluru.\"\n",
    "messages.append({'role':'user','content':user_message})\n",
    "chat_reasponse = chat_completion_request(messages,functions)\n",
    "\n",
    "\n",
    "print(f\"\\nComplete Chat Response: \\n{chat_reasponse.json()}\")\n",
    "assistant_message=chat_reasponse.json()['choices'][0]['message']\n",
    "print(f\"\\nAssistant Message: \\n{assistant_message}\")\n",
    "\n"
   ]
  },
  {
   "cell_type": "code",
   "execution_count": 13,
   "metadata": {},
   "outputs": [
    {
     "data": {
      "text/plain": [
       "{'id': 'chatcmpl-7YvEx13e6Dtq2glpgOgcn2yMmXY9F',\n",
       " 'object': 'chat.completion',\n",
       " 'created': 1688557539,\n",
       " 'model': 'gpt-3.5-turbo-0613',\n",
       " 'choices': [{'index': 0,\n",
       "   'message': {'role': 'assistant',\n",
       "    'content': None,\n",
       "    'function_call': {'name': 'get_current_weather',\n",
       "     'arguments': '{\\n  \"location\": \"Bengaluru\"\\n}'}},\n",
       "   'finish_reason': 'function_call'}],\n",
       " 'usage': {'prompt_tokens': 209, 'completion_tokens': 19, 'total_tokens': 228}}"
      ]
     },
     "execution_count": 13,
     "metadata": {},
     "output_type": "execute_result"
    }
   ],
   "source": [
    "chat_reasponse.json()"
   ]
  },
  {
   "cell_type": "code",
   "execution_count": 14,
   "metadata": {},
   "outputs": [
    {
     "data": {
      "text/plain": [
       "[{'role': 'system',\n",
       "  'content': '\\nYou are Weather bot created by mach-42, You first greet the customer, and you MUST introduce yourself as -\\n\"Hi I am Weather bot created by mach-42! How may I assist you today?\" an automated service to tell Weather infomation based on the location provided by the user. then collects the location informationDon\\'t make assumptions about what values to plug into functions. Ask for clarification if a user request is ambiguous.\\nYou respond in a short, very conversational friendly style. '},\n",
       " {'role': 'user', 'content': 'Hi, there.'},\n",
       " {'role': 'assistant',\n",
       "  'content': 'Hi there! How may I assist you today? I am Weather bot created by mach-42!'},\n",
       " {'role': 'user', 'content': 'I want to know the weather at Bengaluru.'}]"
      ]
     },
     "execution_count": 14,
     "metadata": {},
     "output_type": "execute_result"
    }
   ],
   "source": [
    "messages"
   ]
  },
  {
   "cell_type": "code",
   "execution_count": 15,
   "metadata": {},
   "outputs": [
    {
     "data": {
      "text/plain": [
       "{'role': 'assistant',\n",
       " 'content': None,\n",
       " 'function_call': {'name': 'get_current_weather',\n",
       "  'arguments': '{\\n  \"location\": \"Bengaluru\"\\n}'}}"
      ]
     },
     "execution_count": 15,
     "metadata": {},
     "output_type": "execute_result"
    }
   ],
   "source": [
    "assistant_message = chat_reasponse.json()['choices'][0]['message']\n",
    "assistant_message"
   ]
  },
  {
   "cell_type": "code",
   "execution_count": 16,
   "metadata": {},
   "outputs": [],
   "source": [
    "import json\n",
    "\n",
    "def execute_function_call(assistant_message):\n",
    "    if assistant_message.get('function_call').get('name') == \"get_current_weather\":\n",
    "        location = json.loads(assistant_message.get('function_call').get('arguments'))['location']\n",
    "        results = get_current_weather(location)\n",
    "    else:\n",
    "        results = f\"Error: function {assistant_message['function_call']['name']} dosent exist.\"\n",
    "    return results\n",
    "\n"
   ]
  },
  {
   "cell_type": "code",
   "execution_count": 17,
   "metadata": {},
   "outputs": [
    {
     "name": "stdout",
     "output_type": "stream",
     "text": [
      "\n",
      ">>>> got the querystring as: {'q': 'Bengaluru'}\n",
      "\n",
      ">>>> got the RAPID API response as: \n",
      "{'location': {'name': 'Bengaluru', 'region': 'Karnataka', 'country': 'India', 'lat': 12.98, 'lon': 77.58, 'tz_id': 'Asia/Kolkata', 'localtime_epoch': 1688557549, 'localtime': '2023-07-05 17:15'}, 'current': {'last_updated_epoch': 1688556600, 'last_updated': '2023-07-05 17:00', 'temp_c': 26.0, 'temp_f': 78.8, 'is_day': 1, 'condition': {'text': 'Partly cloudy', 'icon': '//cdn.weatherapi.com/weather/64x64/day/116.png', 'code': 1003}, 'wind_mph': 17.4, 'wind_kph': 28.1, 'wind_degree': 250, 'wind_dir': 'WSW', 'pressure_mb': 1007.0, 'pressure_in': 29.74, 'precip_mm': 1.9, 'precip_in': 0.07, 'humidity': 70, 'cloud': 75, 'feelslike_c': 29.2, 'feelslike_f': 84.6, 'vis_km': 8.0, 'vis_miles': 4.0, 'uv': 5.0, 'gust_mph': 23.9, 'gust_kph': 38.5}}\n"
     ]
    },
    {
     "data": {
      "text/plain": [
       "'{\"location\": {\"name\": \"Bengaluru\", \"region\": \"Karnataka\", \"country\": \"India\", \"lat\": 12.98, \"lon\": 77.58, \"tz_id\": \"Asia/Kolkata\", \"localtime_epoch\": 1688557549, \"localtime\": \"2023-07-05 17:15\"}, \"current\": {\"last_updated_epoch\": 1688556600, \"last_updated\": \"2023-07-05 17:00\", \"temp_c\": 26.0, \"temp_f\": 78.8, \"is_day\": 1, \"condition\": {\"text\": \"Partly cloudy\", \"icon\": \"//cdn.weatherapi.com/weather/64x64/day/116.png\", \"code\": 1003}, \"wind_mph\": 17.4, \"wind_kph\": 28.1, \"wind_degree\": 250, \"wind_dir\": \"WSW\", \"pressure_mb\": 1007.0, \"pressure_in\": 29.74, \"precip_mm\": 1.9, \"precip_in\": 0.07, \"humidity\": 70, \"cloud\": 75, \"feelslike_c\": 29.2, \"feelslike_f\": 84.6, \"vis_km\": 8.0, \"vis_miles\": 4.0, \"uv\": 5.0, \"gust_mph\": 23.9, \"gust_kph\": 38.5}}'"
      ]
     },
     "execution_count": 17,
     "metadata": {},
     "output_type": "execute_result"
    }
   ],
   "source": [
    "results=execute_function_call(assistant_message)\n",
    "content = json.dumps(results)\n",
    "content"
   ]
  },
  {
   "cell_type": "code",
   "execution_count": 18,
   "metadata": {},
   "outputs": [
    {
     "name": "stdout",
     "output_type": "stream",
     "text": [
      "Received Message: {'id': 'chatcmpl-7YvFB1AhmzHqiTy81F1rwHRAcOP3i', 'object': 'chat.completion', 'created': 1688557553, 'model': 'gpt-3.5-turbo-0613', 'choices': [{'index': 0, 'message': {'role': 'assistant', 'content': 'The current weather in Bengaluru, Karnataka, India is partly cloudy. The temperature is 26.0°C (78.8°F) and it feels like 29.2°C (84.6°F) due to the 70% humidity. The wind is blowing from the west-southwest at a speed of 28.1 km/h (17.4 mph) with gusts up to 38.5 km/h (23.9 mph). The visibility is 8.0 km (4.0 miles) and the UV index is 5.0.'}, 'finish_reason': 'stop'}], 'usage': {'prompt_tokens': 499, 'completion_tokens': 118, 'total_tokens': 617}}\n",
      "natural response: \n",
      "The current weather in Bengaluru, Karnataka, India is partly cloudy. The temperature is 26.0°C (78.8°F) and it feels like 29.2°C (84.6°F) due to the 70% humidity. The wind is blowing from the west-southwest at a speed of 28.1 km/h (17.4 mph) with gusts up to 38.5 km/h (23.9 mph). The visibility is 8.0 km (4.0 miles) and the UV index is 5.0.\n"
     ]
    }
   ],
   "source": [
    "def get_natural_response(content):\n",
    "    convert_prompt = f'convert this resilts from weather api to a natural english sentensce: {content}'\n",
    "    messages.append({'role':'user','content':convert_prompt})\n",
    "    convert_prompt_response = chat_completion_request(messages)\n",
    "    print(f\"Received Message: {convert_prompt_response.json()}\")\n",
    "    new_assistant_message = convert_prompt_response.json()[\"choices\"][0][\"message\"]\n",
    "    messages.append(new_assistant_message)\n",
    "    content = new_assistant_message['content']\n",
    "    print(f\"natural response: \\n{content}\")\n",
    "    return content\n",
    "\n",
    "content=get_natural_response(content)\n"
   ]
  },
  {
   "cell_type": "code",
   "execution_count": null,
   "metadata": {},
   "outputs": [],
   "source": []
  }
 ],
 "metadata": {
  "kernelspec": {
   "display_name": "chat_env",
   "language": "python",
   "name": "python3"
  },
  "language_info": {
   "codemirror_mode": {
    "name": "ipython",
    "version": 3
   },
   "file_extension": ".py",
   "mimetype": "text/x-python",
   "name": "python",
   "nbconvert_exporter": "python",
   "pygments_lexer": "ipython3",
   "version": "3.9.16"
  },
  "orig_nbformat": 4
 },
 "nbformat": 4,
 "nbformat_minor": 2
}
